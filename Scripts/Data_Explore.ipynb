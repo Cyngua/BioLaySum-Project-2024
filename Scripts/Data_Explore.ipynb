{
 "cells": [
  {
   "cell_type": "markdown",
   "metadata": {},
   "source": [
    "# Project Dataset Exploration\n",
    "\n",
    "This project is inspired by the shared task of the workshop BIONLP 2024 @ ACL 2024: SHARED TASK ON THE LAY SUMMARIZATION OF BIOMEDICAL RESEARCH ARTICLES.\n",
    "\n",
    "We are provided with two datasets, derived from PLOS and eLife biomedical journals. Datasets are pre-splitted for model training and validation. Each file is provided in .jsonl format, where each line is a JSON object with the following fields:\n",
    "\n",
    "```json\n",
    "{\n",
    "    \"lay_summary\": string, # article lay summary\n",
    "    \"article\": string,     # article main text (abstract included), sections separated by \"/n\"\n",
    "    \"headings\": list,      # the article headings, corresponding to the sections in the text\n",
    "    \"keywords\": list,      # keywords describing the topic of the article \n",
    "    \"id\": string,          # article id\n",
    "} \n",
    "```\n",
    "\n",
    "where the lay_summary field is the reference summary, the article field is the input to the summarization model, and the headings, keywords, and id fields containing metadata (for optional usage). Our aim is to generate lay summaries for each article that are more readable for non-expert audiences. The ``lay_summar`` field will be the reference during training and validation processes.\n",
    "\n",
    "For PLOS, there are 24,773 instances allocated for training and 1,376 for validation, while eLife comprises 4,346 instances designated for training and 241 for validation. The test data instances do not have lay summaries as reference, and each test dataset has 142 instances. If necessary, we may apply additional data (i.e., not provided the competition) at training or inference time, so that we may improve the generalizability of our model."
   ]
  },
  {
   "cell_type": "code",
   "execution_count": null,
   "metadata": {},
   "outputs": [],
   "source": []
  }
 ],
 "metadata": {
  "language_info": {
   "name": "python"
  }
 },
 "nbformat": 4,
 "nbformat_minor": 2
}
